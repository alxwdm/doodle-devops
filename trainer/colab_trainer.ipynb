{
  "nbformat": 4,
  "nbformat_minor": 0,
  "metadata": {
    "colab": {
      "name": "colab_trainer.ipynb",
      "provenance": [],
      "collapsed_sections": [],
      "authorship_tag": "ABX9TyMHkd160Rc+wR1lPJe7loIk"
    },
    "kernelspec": {
      "name": "python3",
      "display_name": "Python 3"
    },
    "language_info": {
      "name": "python"
    }
  },
  "cells": [
    {
      "cell_type": "markdown",
      "metadata": {
        "id": "qsT44luxLTL5"
      },
      "source": [
        "# Setup"
      ]
    },
    {
      "cell_type": "code",
      "metadata": {
        "colab": {
          "base_uri": "https://localhost:8080/"
        },
        "id": "8-WK7gRRMSkH",
        "outputId": "c94361d8-c4e0-4535-df90-835fbce3e917"
      },
      "source": [
        "import numpy as np\n",
        "import pandas as pd\n",
        "import matplotlib.pyplot as plt\n",
        "import tensorflow as tf\n",
        "print('TensorFlow version:  ', tf.__version__)\n",
        "from tensorflow.keras import layers, models\n",
        "from sklearn.model_selection import train_test_split"
      ],
      "execution_count": 9,
      "outputs": [
        {
          "output_type": "stream",
          "text": [
            "TensorFlow version:   2.4.1\n"
          ],
          "name": "stdout"
        }
      ]
    },
    {
      "cell_type": "code",
      "metadata": {
        "id": "8P7jsMbwOse7"
      },
      "source": [
        "# Mount Google Drive\n",
        "#from google.colab import drive\n",
        "#drive.mount('/content/drive')\n",
        "\n",
        "# Login with Google Account\n",
        "from google.colab import auth\n",
        "auth.authenticate_user()"
      ],
      "execution_count": null,
      "outputs": []
    },
    {
      "cell_type": "code",
      "metadata": {
        "id": "XthjmG5UNcA-",
        "outputId": "3f58249a-fe5e-4649-8b0e-638b86ab37fe",
        "colab": {
          "base_uri": "https://localhost:8080/"
        }
      },
      "source": [
        "!gsutil cp 'gs://quickdraw_dataset/full/numpy_bitmap/cat.npy' .\n",
        "!gsutil cp 'gs://quickdraw_dataset/full/numpy_bitmap/dog.npy' .\n",
        "!gsutil cp 'gs://quickdraw_dataset/full/numpy_bitmap/mouse.npy' ."
      ],
      "execution_count": 2,
      "outputs": [
        {
          "output_type": "stream",
          "text": [
            "Copying gs://quickdraw_dataset/full/numpy_bitmap/cat.npy...\n",
            "- [1 files][ 92.1 MiB/ 92.1 MiB]                                                \n",
            "Operation completed over 1 objects/92.1 MiB.                                     \n",
            "Copying gs://quickdraw_dataset/full/numpy_bitmap/dog.npy...\n",
            "\\ [1 files][113.8 MiB/113.8 MiB]                                                \n",
            "Operation completed over 1 objects/113.8 MiB.                                    \n",
            "Copying gs://quickdraw_dataset/full/numpy_bitmap/mouse.npy...\n",
            "\\ [1 files][133.7 MiB/133.7 MiB]                                                \n",
            "Operation completed over 1 objects/133.7 MiB.                                    \n"
          ],
          "name": "stdout"
        }
      ]
    },
    {
      "cell_type": "markdown",
      "metadata": {
        "id": "qGdQ1GqBP9Zu"
      },
      "source": [
        "# Visualize input data"
      ]
    },
    {
      "cell_type": "code",
      "metadata": {
        "colab": {
          "base_uri": "https://localhost:8080/"
        },
        "id": "VaJWyTe1OgkC",
        "outputId": "134e6c48-0232-4232-f6bb-ef9b7625b0a4"
      },
      "source": [
        "cat = np.load('cat.npy')\n",
        "dog = np.load('dog.npy')\n",
        "mouse = np.load('mouse.npy')\n",
        "print('Shapes:\\n cat {} \\n dog {} \\n mouse {}'.format(cat.shape, dog.shape, mouse.shape))"
      ],
      "execution_count": 5,
      "outputs": [
        {
          "output_type": "stream",
          "text": [
            "Shapes:\n",
            " cat (123202, 784) \n",
            " dog (152159, 784) \n",
            " mouse (178826, 784)\n"
          ],
          "name": "stdout"
        }
      ]
    },
    {
      "cell_type": "markdown",
      "metadata": {
        "id": "lE8-4NRT_f3o"
      },
      "source": [
        "Function from github.com/kradolfer/quickdraw-image-recognition/"
      ]
    },
    {
      "cell_type": "code",
      "metadata": {
        "id": "Hl8lEYiY-zKQ"
      },
      "source": [
        "def plot_samples(input_array, rows=4, cols=5, title=''):\n",
        "    \"\"\"\n",
        "    Function to plot 28x28 pixel drawings that are stored in a numpy array.\n",
        "    Specify how many rows and cols of pictures to display (default 4x5).  \n",
        "    If the array contains less images than subplots selected, \n",
        "    surplus subplots remain empty.\n",
        "    \"\"\"\n",
        "    \n",
        "    fig, ax = plt.subplots(figsize=(cols,rows))\n",
        "    ax.axis('off')\n",
        "    plt.title(title)\n",
        "\n",
        "    for i in list(range(0, min(len(input_array),(rows*cols)) )):      \n",
        "        a = fig.add_subplot(rows,cols,i+1)\n",
        "        imgplot = plt.imshow(input_array[i,:784].reshape((28,28)), cmap='gray_r', interpolation='nearest')\n",
        "        plt.xticks([])\n",
        "        plt.yticks([])"
      ],
      "execution_count": 8,
      "outputs": []
    },
    {
      "cell_type": "code",
      "metadata": {
        "id": "br7xZlWN_a3n",
        "outputId": "2df27cfb-4a32-453d-b747-c0f85a8b8161",
        "colab": {
          "base_uri": "https://localhost:8080/",
          "height": 252
        }
      },
      "source": [
        "plot_samples(cat)"
      ],
      "execution_count": 9,
      "outputs": [
        {
          "output_type": "display_data",
          "data": {
            "image/png": "[encoded data removed]",
            "text/plain": [
              "<Figure size 360x288 with 21 Axes>"
            ]
          },
          "metadata": {
            "tags": [],
            "needs_background": "light"
          }
        }
      ]
    },
    {
      "cell_type": "code",
      "metadata": {
        "id": "sKgocR-2_bbV",
        "outputId": "318f12d3-e7e7-45cd-c6a7-1464dff4182d",
        "colab": {
          "base_uri": "https://localhost:8080/",
          "height": 252
        }
      },
      "source": [
        "plot_samples(dog)"
      ],
      "execution_count": 53,
      "outputs": [
        {
          "output_type": "display_data",
          "data": {
            "image/png": "[encoded data removed]",
            "text/plain": [
              "<Figure size 360x288 with 21 Axes>"
            ]
          },
          "metadata": {
            "tags": [],
            "needs_background": "light"
          }
        }
      ]
    },
    {
      "cell_type": "code",
      "metadata": {
        "id": "oxDYRRUCLapc",
        "outputId": "827c2c5e-f73f-47ea-d179-23f6182caf2b",
        "colab": {
          "base_uri": "https://localhost:8080/",
          "height": 252
        }
      },
      "source": [
        "plot_samples(mouse)"
      ],
      "execution_count": 54,
      "outputs": [
        {
          "output_type": "display_data",
          "data": {
            "image/png": "[encoded data removed]",
            "text/plain": [
              "<Figure size 360x288 with 21 Axes>"
            ]
          },
          "metadata": {
            "tags": [],
            "needs_background": "light"
          }
        }
      ]
    },
    {
      "cell_type": "markdown",
      "metadata": {
        "id": "FFbRNVtZgxEX"
      },
      "source": [
        "# Data Preprocessing"
      ]
    },
    {
      "cell_type": "code",
      "metadata": {
        "colab": {
          "base_uri": "https://localhost:8080/"
        },
        "id": "q9Ds360wgy1f",
        "outputId": "708948d1-28ca-4804-fdfb-ad698578ffc9"
      },
      "source": [
        "# Make train-test set from *.npy data\n",
        "N_SAMPLES = 50000\n",
        "TEST_RATIO = 0.02\n",
        "\n",
        "CATEGORY_DICT = {\n",
        "    'cat': 0,\n",
        "    'dog': 1,\n",
        "    'mouse': 2\n",
        "}\n",
        "\n",
        "def get_train_test_data():\n",
        "    \"\"\"\n",
        "    Loads data from *.npy files by category and\n",
        "    creates train-test split.\n",
        "    \"\"\"\n",
        "    X_data = []\n",
        "    y_labels = []\n",
        "    # get data for each category\n",
        "    for category, enc in CATEGORY_DICT.items():\n",
        "        # load numpy data from storage\n",
        "        np_data = np.load(f'{category}.npy')\n",
        "        # select random subset acc. to N_SAMPLES\n",
        "        np.random.shuffle(np_data)\n",
        "        X_category = np_data[0:N_SAMPLES,:]\n",
        "        # encode label\n",
        "        y_category = np.zeros(N_SAMPLES) + enc\n",
        "        # add to set\n",
        "        X_data.append(X_category)\n",
        "        y_labels.append(y_category)\n",
        "    # create numpy array and fix shapes\n",
        "    X_data = np.asarray(X_data)\n",
        "    X_data = X_data.reshape(-1, X_data.shape[2])\n",
        "    y_labels = np.asarray(Y_labels).flatten()\n",
        "    # Train test split\n",
        "    X_train, X_test, y_train, y_test = train_test_split(\n",
        "        X_data, y_labels, test_size=TEST_RATIO, random_state=42\n",
        "        )\n",
        "    return X_train, X_test, y_train, y_test\n",
        "\n",
        "X_train, X_test, y_train, y_test = get_train_test_data()\n",
        "\n",
        "# Print data shapes\n",
        "print('Training data shapes: \\n data: {} \\n labels: {}'.format(\n",
        "    X_train.shape, y_train.shape\n",
        "    ))\n",
        "print('Test data shapes: \\n data: {} \\n labels: {}'.format(\n",
        "    X_test.shape, y_test.shape\n",
        "    ))"
      ],
      "execution_count": 37,
      "outputs": [
        {
          "output_type": "stream",
          "text": [
            "Training data shapes: \n",
            " data: (147000, 784) \n",
            " labels: (147000,)\n",
            "Test data shapes: \n",
            " data: (3000, 784) \n",
            " labels: (3000,)\n"
          ],
          "name": "stdout"
        }
      ]
    },
    {
      "cell_type": "code",
      "metadata": {
        "colab": {
          "base_uri": "https://localhost:8080/"
        },
        "id": "Jq-hoe9Bk4t3",
        "outputId": "2a8cc3e9-194b-4709-c0f2-1aa1cc8df6b1"
      },
      "source": [
        "# Create tensorflow dataset\n",
        "BATCH_SIZE = 128\n",
        "BUFFER_SIZE = 256\n",
        "\n",
        "def input_fn(X_train, X_test, y_train, y_test):\n",
        "    \"\"\"\n",
        "    Takes numpy train-test data and converts it into a tf.data.Dataset\n",
        "    \"\"\"\n",
        "\n",
        "    # preprocessing functions\n",
        "    def _fixup_shape(features, label):\n",
        "        features = tf.reshape(features, [28, 28, 1])\n",
        "        return features, label\n",
        "    def _normalize(features, label):\n",
        "        features = tf.math.divide(features, 255)\n",
        "        return features, label\n",
        "\n",
        "    train_ds = tf.data.Dataset.from_tensor_slices((X_train, y_train))\n",
        "    test_ds = tf.data.Dataset.from_tensor_slices((X_test, y_test))\n",
        "\n",
        "    train_ds = train_ds.map(_fixup_shape) \\\n",
        "                    .map(_normalize)\n",
        "    train_ds = train_ds.shuffle(buffer_size=BUFFER_SIZE).batch(BATCH_SIZE)\n",
        "\n",
        "    test_ds = test_ds.map(_fixup_shape) \\\n",
        "                    .map(_normalize)\n",
        "    test_ds = test_ds.batch(1)\n",
        "\n",
        "    return train_ds, test_ds\n",
        "\n",
        "train_ds, test_ds = input_fn(X_train, X_test, y_train, y_test)\n",
        "\n",
        "# Print shapes\n",
        "for feat, label in train_ds.take(1):\n",
        "    print(feat.shape)\n",
        "    print(label.shape)"
      ],
      "execution_count": 38,
      "outputs": [
        {
          "output_type": "stream",
          "text": [
            "(128, 28, 28, 1)\n"
          ],
          "name": "stdout"
        }
      ]
    },
    {
      "cell_type": "markdown",
      "metadata": {
        "id": "h2Ud5ZzFG5Pu"
      },
      "source": [
        "# Train CNN\n"
      ]
    },
    {
      "cell_type": "code",
      "metadata": {
        "colab": {
          "base_uri": "https://localhost:8080/"
        },
        "id": "_1jC3S6uHHP-",
        "outputId": "2eb68f28-44ca-44a6-b2d0-54d6570475cd"
      },
      "source": [
        "# Create keras model\n",
        "NUM_CLASSES = 3\n",
        "\n",
        "model = models.Sequential()\n",
        "model.add(layers.Conv2D(32, (3, 3), activation='relu', input_shape=(28, 28, 1)))\n",
        "model.add(layers.MaxPooling2D((2, 2)))\n",
        "model.add(layers.Conv2D(64, (3, 3), activation='relu'))\n",
        "model.add(layers.MaxPooling2D(2, 2))\n",
        "model.add(layers.Conv2D(64, (3, 3), activation='relu'))\n",
        "model.add(layers.Flatten())\n",
        "model.add(layers.Dense(64, activation='relu'))\n",
        "if NUM_CLASSES == 2:\n",
        "    model.add(layers.Dense(1)) # binary model\n",
        "else:\n",
        "    model.add(layers.Dense(NUM_CLASSES)) \n",
        "\n",
        "model.summary()"
      ],
      "execution_count": 12,
      "outputs": [
        {
          "output_type": "stream",
          "text": [
            "Model: \"sequential\"\n",
            "_________________________________________________________________\n",
            "Layer (type)                 Output Shape              Param #   \n",
            "=================================================================\n",
            "conv2d (Conv2D)              (None, 26, 26, 32)        320       \n",
            "_________________________________________________________________\n",
            "max_pooling2d (MaxPooling2D) (None, 13, 13, 32)        0         \n",
            "_________________________________________________________________\n",
            "conv2d_1 (Conv2D)            (None, 11, 11, 64)        18496     \n",
            "_________________________________________________________________\n",
            "max_pooling2d_1 (MaxPooling2 (None, 5, 5, 64)          0         \n",
            "_________________________________________________________________\n",
            "conv2d_2 (Conv2D)            (None, 3, 3, 64)          36928     \n",
            "_________________________________________________________________\n",
            "flatten (Flatten)            (None, 576)               0         \n",
            "_________________________________________________________________\n",
            "dense (Dense)                (None, 64)                36928     \n",
            "_________________________________________________________________\n",
            "dense_1 (Dense)              (None, 3)                 195       \n",
            "=================================================================\n",
            "Total params: 92,867\n",
            "Trainable params: 92,867\n",
            "Non-trainable params: 0\n",
            "_________________________________________________________________\n"
          ],
          "name": "stdout"
        }
      ]
    },
    {
      "cell_type": "code",
      "metadata": {
        "id": "arwMrJ3YH2Cx"
      },
      "source": [
        "# Compile model\n",
        "if NUM_CLASSES == 2:\n",
        "    loss_fn = tf.keras.losses.BinaryCrossentropy(from_logits=True)\n",
        "else:\n",
        "    loss_fn = tf.keras.losses.SparseCategoricalCrossentropy(from_logits=True)\n",
        "model.compile(optimizer='adam',\n",
        "              loss=loss_fn,\n",
        "              metrics=['accuracy'])"
      ],
      "execution_count": 13,
      "outputs": []
    },
    {
      "cell_type": "code",
      "metadata": {
        "colab": {
          "base_uri": "https://localhost:8080/"
        },
        "id": "EnWolfGPH5U5",
        "outputId": "66ac38bf-186f-43ce-bc03-a3476ae1ad10"
      },
      "source": [
        "# Train model\n",
        "TRAIN_STEPS = 10\n",
        "\n",
        "history = model.fit(train_ds, \n",
        "                    epochs=TRAIN_STEPS, \n",
        "                    steps_per_epoch=None,\n",
        "                    validation_data=test_ds,\n",
        "                    validation_freq=1,\n",
        "                    verbose=1)\n",
        "model.save('model.h5')"
      ],
      "execution_count": 14,
      "outputs": [
        {
          "output_type": "stream",
          "text": [
            "Epoch 1/10\n",
            "1149/1149 [==============================] - 124s 107ms/step - loss: 0.5914 - accuracy: 0.7545 - val_loss: 0.4015 - val_accuracy: 0.8493\n",
            "Epoch 2/10\n",
            "1149/1149 [==============================] - 122s 106ms/step - loss: 0.3855 - accuracy: 0.8502 - val_loss: 0.3759 - val_accuracy: 0.8497\n",
            "Epoch 3/10\n",
            "1149/1149 [==============================] - 122s 106ms/step - loss: 0.3479 - accuracy: 0.8651 - val_loss: 0.3595 - val_accuracy: 0.8547\n",
            "Epoch 4/10\n",
            "1149/1149 [==============================] - 122s 107ms/step - loss: 0.3282 - accuracy: 0.8727 - val_loss: 0.3493 - val_accuracy: 0.8557\n",
            "Epoch 5/10\n",
            "1149/1149 [==============================] - 123s 107ms/step - loss: 0.3114 - accuracy: 0.8798 - val_loss: 0.3467 - val_accuracy: 0.8633\n",
            "Epoch 6/10\n",
            "1149/1149 [==============================] - 122s 107ms/step - loss: 0.2964 - accuracy: 0.8866 - val_loss: 0.3531 - val_accuracy: 0.8613\n",
            "Epoch 7/10\n",
            "1149/1149 [==============================] - 122s 106ms/step - loss: 0.2808 - accuracy: 0.8925 - val_loss: 0.3517 - val_accuracy: 0.8627\n",
            "Epoch 8/10\n",
            "1149/1149 [==============================] - 121s 105ms/step - loss: 0.2654 - accuracy: 0.8985 - val_loss: 0.3691 - val_accuracy: 0.8560\n",
            "Epoch 9/10\n",
            "1149/1149 [==============================] - 121s 105ms/step - loss: 0.2503 - accuracy: 0.9033 - val_loss: 0.3894 - val_accuracy: 0.8580\n",
            "Epoch 10/10\n",
            "1149/1149 [==============================] - 121s 105ms/step - loss: 0.2370 - accuracy: 0.9093 - val_loss: 0.4136 - val_accuracy: 0.8537\n"
          ],
          "name": "stdout"
        }
      ]
    },
    {
      "cell_type": "code",
      "metadata": {
        "colab": {
          "base_uri": "https://localhost:8080/"
        },
        "id": "-rrbJU0hszO4",
        "outputId": "b35924c0-3007-48a9-eac8-2c04fd7e86cf"
      },
      "source": [
        "for feat, label in test_ds.shuffle(buffer_size=128).take(4):\n",
        "    pred = model.predict(feat)\n",
        "    print('Logits: \\t', pred[0])\n",
        "    print('Prediction:\\t {}\\nTrue Label:\\t {}'.format(np.argmax(pred), int(label[0])))"
      ],
      "execution_count": 15,
      "outputs": [
        {
          "output_type": "stream",
          "text": [
            "Logits: \t [ 2.6699762 -3.006159  -1.3935195]\n",
            "Prediction:\t 0\n",
            "True Label:\t 0\n",
            "Logits: \t [ 4.184852  -2.0730886 -3.3455923]\n",
            "Prediction:\t 0\n",
            "True Label:\t 0\n",
            "Logits: \t [ 7.7422338 -5.121661  -2.1475973]\n",
            "Prediction:\t 0\n",
            "True Label:\t 0\n",
            "Logits: \t [-3.7341092 -3.338173   5.508769 ]\n",
            "Prediction:\t 2\n",
            "True Label:\t 2\n"
          ],
          "name": "stdout"
        }
      ]
    },
    {
      "cell_type": "markdown",
      "metadata": {
        "id": "yZCoLoEUe-TE"
      },
      "source": [
        "# Export model for TensorFlow.JS\n"
      ]
    },
    {
      "cell_type": "code",
      "metadata": {
        "id": "HpMlLF83NGDi"
      },
      "source": [
        "!pip install tensorflowjs"
      ],
      "execution_count": null,
      "outputs": []
    },
    {
      "cell_type": "code",
      "metadata": {
        "id": "Yz_NWkvofAk0"
      },
      "source": [
        "!tensorflowjs_converter --input_format=keras model.h5 tfjs_model"
      ],
      "execution_count": null,
      "outputs": []
    },
    {
      "cell_type": "markdown",
      "metadata": {
        "id": "6tVmf668RTgB"
      },
      "source": [
        "# Debugging Area"
      ]
    },
    {
      "cell_type": "code",
      "metadata": {
        "id": "jn0WkQs33XNR"
      },
      "source": [
        "# nothing here!"
      ],
      "execution_count": null,
      "outputs": []
    }
  ]
}