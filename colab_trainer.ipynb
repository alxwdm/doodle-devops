{
  "nbformat": 4,
  "nbformat_minor": 0,
  "metadata": {
    "colab": {
      "name": "colab_trainer.ipynb",
      "provenance": [],
      "collapsed_sections": [],
      "authorship_tag": "ABX9TyP7akF4nv3bP/MdwB8Fdaqo"
    },
    "kernelspec": {
      "name": "python3",
      "display_name": "Python 3"
    },
    "language_info": {
      "name": "python"
    }
  },
  "cells": [
    {
      "cell_type": "markdown",
      "metadata": {
        "id": "qsT44luxLTL5"
      },
      "source": [
        "# Setup"
      ]
    },
    {
      "cell_type": "code",
      "metadata": {
        "colab": {
          "base_uri": "https://localhost:8080/"
        },
        "id": "8-WK7gRRMSkH",
        "outputId": "cbe34e10-2f94-41e9-92af-e1d1d26e39ea"
      },
      "source": [
        "import numpy as np\n",
        "import pandas as pd\n",
        "import matplotlib.pyplot as plt\n",
        "import tensorflow as tf\n",
        "print('TensorFlow version:  ', tf.__version__)"
      ],
      "execution_count": 1,
      "outputs": [
        {
          "output_type": "stream",
          "text": [
            "TensorFlow version:   2.4.1\n"
          ],
          "name": "stdout"
        }
      ]
    },
    {
      "cell_type": "code",
      "metadata": {
        "id": "8P7jsMbwOse7"
      },
      "source": [
        "# Mount Google Drive\n",
        "#from google.colab import drive\n",
        "#drive.mount('/content/drive')"
      ],
      "execution_count": null,
      "outputs": []
    },
    {
      "cell_type": "code",
      "metadata": {
        "id": "lJdRAUCmOq2P"
      },
      "source": [
        "# Login with Google Account\n",
        "from google.colab import auth\n",
        "auth.authenticate_user()"
      ],
      "execution_count": null,
      "outputs": []
    },
    {
      "cell_type": "code",
      "metadata": {
        "id": "XthjmG5UNcA-"
      },
      "source": [
        "!gsutil cp 'gs://quickdraw_dataset/full/numpy_bitmap/cat.npy' .\n",
        "!gsutil cp 'gs://quickdraw_dataset/full/numpy_bitmap/dog.npy' .\n",
        "!gsutil cp 'gs://quickdraw_dataset/full/numpy_bitmap/mouse.npy' ."
      ],
      "execution_count": null,
      "outputs": []
    },
    {
      "cell_type": "markdown",
      "metadata": {
        "id": "qGdQ1GqBP9Zu"
      },
      "source": [
        "# Display Data"
      ]
    },
    {
      "cell_type": "code",
      "metadata": {
        "colab": {
          "base_uri": "https://localhost:8080/"
        },
        "id": "VaJWyTe1OgkC",
        "outputId": "2585f69b-78d5-4c12-e390-de5f18e3ab14"
      },
      "source": [
        "cat = np.load('cat.npy')\n",
        "dog = np.load('dog.npy')\n",
        "mouse = np.load('mouse.npy')\n",
        "print('Shapes:\\n cat {} \\n dog {} \\n mouse {}'.format(cat.shape, dog.shape, mouse.shape))"
      ],
      "execution_count": 3,
      "outputs": [
        {
          "output_type": "stream",
          "text": [
            "Shapes:\n",
            " cat (123202, 784) \n",
            " dog (152159, 784) \n",
            " mouse (178826, 784)\n"
          ],
          "name": "stdout"
        }
      ]
    },
    {
      "cell_type": "code",
      "metadata": {
        "colab": {
          "base_uri": "https://localhost:8080/"
        },
        "id": "-BWW_2m-X3oK",
        "outputId": "c44cfdd1-2eb6-4855-c61d-d4c546e31061"
      },
      "source": [
        "cat[0].shape\n",
        "type(cat)"
      ],
      "execution_count": 8,
      "outputs": [
        {
          "output_type": "execute_result",
          "data": {
            "text/plain": [
              "numpy.ndarray"
            ]
          },
          "metadata": {
            "tags": []
          },
          "execution_count": 8
        }
      ]
    },
    {
      "cell_type": "code",
      "metadata": {
        "colab": {
          "base_uri": "https://localhost:8080/",
          "height": 45
        },
        "id": "3LgSyHHTR_5U",
        "outputId": "6a0b1d3f-1ef5-4043-c398-be6e0f32e8e5"
      },
      "source": [
        "from PIL import Image\n",
        "import numpy as np\n",
        "\n",
        "data = np.resize(cat[0], (28, 28))\n",
        "img = Image.fromarray(data)\n",
        "#img.resize((256, 256), Image.ANTIALIAS)\n",
        "#img.resize((256, 256), Image.ANTIALIAS)\n",
        "img"
      ],
      "execution_count": 5,
      "outputs": [
        {
          "output_type": "execute_result",
          "data": {
            "image/png": "[encoded data removed]",
            "text/plain": [
              "<PIL.Image.Image image mode=L size=28x28 at 0x7F4F8F1EBC50>"
            ]
          },
          "metadata": {
            "tags": []
          },
          "execution_count": 5
        }
      ]
    },
    {
      "cell_type": "code",
      "metadata": {
        "colab": {
          "base_uri": "https://localhost:8080/",
          "height": 265
        },
        "id": "7M8Gp2IQVFNi",
        "outputId": "923ca430-d892-4661-ca49-831d1d039ff1"
      },
      "source": [
        "import matplotlib.pyplot as plt\n",
        "\n",
        "arr = np.resize(cat[0], (28, 28))\n",
        "#threshold = 120\n",
        "#arr[arr > threshold] = 255\n",
        "#arr[arr < threshold] = 0\n",
        "plt.imshow(arr, cmap='gray', vmin=0, vmax=255)\n",
        "plt.show()"
      ],
      "execution_count": 6,
      "outputs": [
        {
          "output_type": "display_data",
          "data": {
            "image/png": "[encoded data removed]",
            "text/plain": [
              "<Figure size 432x288 with 1 Axes>"
            ]
          },
          "metadata": {
            "tags": [],
            "needs_background": "light"
          }
        }
      ]
    },
    {
      "cell_type": "markdown",
      "metadata": {
        "id": "FFbRNVtZgxEX"
      },
      "source": [
        "# Create tf dataset"
      ]
    },
    {
      "cell_type": "code",
      "metadata": {
        "colab": {
          "base_uri": "https://localhost:8080/"
        },
        "id": "q9Ds360wgy1f",
        "outputId": "71eb0d2b-bfe7-49c7-a36d-43e54b3dc610"
      },
      "source": [
        "# Prepare numpy data\n",
        "\n",
        "# Take N_SAMPLES samples from each category\n",
        "N_SAMPLES_TRAIN = 49000\n",
        "N_SAMPLES_TEST = 1000\n",
        "CAT_ENC = 0\n",
        "DOG_ENC = 1\n",
        "#MOUSE_ENC = 2\n",
        "\n",
        "# training set\n",
        "cat_data_train = cat[0:N_SAMPLES_TRAIN,:]\n",
        "cat_labels_train = np.zeros(N_SAMPLES_TRAIN)+CAT_ENC\n",
        "dog_data_train = dog[0:N_SAMPLES_TRAIN,:]\n",
        "dog_labels_train = np.zeros(N_SAMPLES_TRAIN)+DOG_ENC\n",
        "mouse_data_train = mouse[0:N_SAMPLES_TRAIN,:]\n",
        "mouse_labels_train = np.zeros(N_SAMPLES_TRAIN)+MOUSE_ENC\n",
        "training_data = np.vstack((cat_data_train, \n",
        "                           dog_data_train))#, \n",
        "#                           mouse_data_train))\n",
        "training_labels = np.hstack((cat_labels_train, \n",
        "                             dog_labels_train))#, \n",
        "#                             mouse_labels_train))\n",
        "\n",
        "# test set\n",
        "cat_data_test = cat[N_SAMPLES_TRAIN+1:N_SAMPLES_TRAIN+1+N_SAMPLES_TEST,:]\n",
        "cat_labels_test = np.zeros(N_SAMPLES_TEST)+CAT_ENC\n",
        "dog_data_test = dog[N_SAMPLES_TRAIN+1:N_SAMPLES_TRAIN+1+N_SAMPLES_TEST,:]\n",
        "dog_labels_test = np.zeros(N_SAMPLES_TEST)+DOG_ENC\n",
        "mouse_data_test = mouse[N_SAMPLES_TRAIN+1:N_SAMPLES_TRAIN+1+N_SAMPLES_TEST,:]\n",
        "mouse_labels_test = np.zeros(N_SAMPLES_TEST)+MOUSE_ENC\n",
        "test_data = np.vstack((cat_data_test, \n",
        "                           dog_data_test))#, \n",
        "                           #mouse_data_test))\n",
        "test_labels = np.hstack((cat_labels_test, \n",
        "                             dog_labels_test))#, \n",
        "                             #mouse_labels_test))\n",
        "\n",
        "print('Training data shapes: \\n data: {} \\n labels: {}'.format(\n",
        "    training_data.shape, training_labels.shape\n",
        "))\n",
        "print('Test data shapes: \\n data: {} \\n labels: {}'.format(\n",
        "    test_data.shape, test_labels.shape\n",
        "))"
      ],
      "execution_count": 116,
      "outputs": [
        {
          "output_type": "stream",
          "text": [
            "Training data shapes: \n",
            " data: (200, 784) \n",
            " labels: (200,)\n",
            "Test data shapes: \n",
            " data: (20, 784) \n",
            " labels: (20,)\n"
          ],
          "name": "stdout"
        }
      ]
    },
    {
      "cell_type": "code",
      "metadata": {
        "colab": {
          "base_uri": "https://localhost:8080/"
        },
        "id": "Jq-hoe9Bk4t3",
        "outputId": "fd0d2b16-eeb5-434a-bcdd-bbb9f0cb7cf2"
      },
      "source": [
        "# Create tensorflow dataset\n",
        "\n",
        "train_ds = tf.data.Dataset.from_tensor_slices((training_data, training_labels))\n",
        "test_ds = tf.data.Dataset.from_tensor_slices((test_data, test_labels))\n",
        "\n",
        "def _fixup_shape(features, label):\n",
        "    features = tf.reshape(features, [28, 28, 1])\n",
        "    #features.set_shape([None, 28, 28, 1])\n",
        "    #labels.set_shape([None])\n",
        "    return features, label\n",
        "\n",
        "def _normalize(features, label):\n",
        "    features = tf.math.divide(features, 255)\n",
        "    return features, label\n",
        "\n",
        "train_ds = train_ds.map(_fixup_shape) \\\n",
        "                   .map(_normalize)\n",
        "train_ds = train_ds.shuffle(buffer_size=10).batch(4)\n",
        "\n",
        "test_ds = test_ds.map(_fixup_shape) \\\n",
        "                 .map(_normalize)\n",
        "test_ds = test_ds.batch(1)\n",
        "\n",
        "for feat, label in train_ds.take(1):\n",
        "    print(feat.shape)"
      ],
      "execution_count": 117,
      "outputs": [
        {
          "output_type": "stream",
          "text": [
            "(4, 28, 28, 1)\n"
          ],
          "name": "stdout"
        }
      ]
    },
    {
      "cell_type": "markdown",
      "metadata": {
        "id": "h2Ud5ZzFG5Pu"
      },
      "source": [
        "# Train CNN\n",
        "\n",
        "From https://www.tensorflow.org/tutorials/images/cnn?hl=en"
      ]
    },
    {
      "cell_type": "code",
      "metadata": {
        "id": "O4X0NK8WG7BI"
      },
      "source": [
        "from tensorflow.keras import layers, models"
      ],
      "execution_count": 77,
      "outputs": []
    },
    {
      "cell_type": "code",
      "metadata": {
        "colab": {
          "base_uri": "https://localhost:8080/"
        },
        "id": "_1jC3S6uHHP-",
        "outputId": "5bcf931c-13e9-40bc-b7d0-94453a0f9420"
      },
      "source": [
        "# Create keras model\n",
        "model = models.Sequential()\n",
        "model.add(layers.Conv2D(32, (3, 3), activation='relu', input_shape=(28, 28, 1)))\n",
        "model.add(layers.MaxPooling2D((2, 2)))\n",
        "model.add(layers.Conv2D(64, (3, 3), activation='relu'))\n",
        "model.add(layers.MaxPooling2D(2, 2))\n",
        "model.add(layers.Conv2D(64, (3, 3), activation='relu'))\n",
        "model.add(layers.Flatten())\n",
        "model.add(layers.Dense(64, activation='relu'))\n",
        "model.add(layers.Dense(1)) # softmax?\n",
        "\n",
        "model.summary()"
      ],
      "execution_count": 123,
      "outputs": [
        {
          "output_type": "stream",
          "text": [
            "Model: \"sequential_8\"\n",
            "_________________________________________________________________\n",
            "Layer (type)                 Output Shape              Param #   \n",
            "=================================================================\n",
            "conv2d_22 (Conv2D)           (None, 26, 26, 32)        320       \n",
            "_________________________________________________________________\n",
            "conv2d_23 (Conv2D)           (None, 24, 24, 64)        18496     \n",
            "_________________________________________________________________\n",
            "max_pooling2d_10 (MaxPooling (None, 12, 12, 64)        0         \n",
            "_________________________________________________________________\n",
            "conv2d_24 (Conv2D)           (None, 10, 10, 64)        36928     \n",
            "_________________________________________________________________\n",
            "flatten_7 (Flatten)          (None, 6400)              0         \n",
            "_________________________________________________________________\n",
            "dense_14 (Dense)             (None, 64)                409664    \n",
            "_________________________________________________________________\n",
            "dense_15 (Dense)             (None, 1)                 65        \n",
            "=================================================================\n",
            "Total params: 465,473\n",
            "Trainable params: 465,473\n",
            "Non-trainable params: 0\n",
            "_________________________________________________________________\n"
          ],
          "name": "stdout"
        }
      ]
    },
    {
      "cell_type": "code",
      "metadata": {
        "id": "arwMrJ3YH2Cx"
      },
      "source": [
        "# Train model\n",
        "model.compile(optimizer='adam',\n",
        "              loss=tf.keras.losses.BinaryCrossentropy(from_logits=True),\n",
        "              metrics=['accuracy'])"
      ],
      "execution_count": 124,
      "outputs": []
    },
    {
      "cell_type": "code",
      "metadata": {
        "colab": {
          "base_uri": "https://localhost:8080/"
        },
        "id": "EnWolfGPH5U5",
        "outputId": "a64624be-7583-43df-8622-40d964ea1e26"
      },
      "source": [
        "TRAIN_STEPS = 10\n",
        "history = model.fit(train_ds, \n",
        "                    epochs=TRAIN_STEPS, \n",
        "                    steps_per_epoch=None,\n",
        "                    validation_data=test_ds,\n",
        "                    validation_freq=1,\n",
        "                    verbose=2)"
      ],
      "execution_count": 125,
      "outputs": [
        {
          "output_type": "stream",
          "text": [
            "Epoch 1/10\n",
            "50/50 - 2s - loss: 4.5587 - accuracy: 0.5000 - val_loss: 0.7026 - val_accuracy: 0.5000\n",
            "Epoch 2/10\n",
            "50/50 - 1s - loss: 0.6951 - accuracy: 0.5050 - val_loss: 0.7410 - val_accuracy: 0.4500\n",
            "Epoch 3/10\n",
            "50/50 - 1s - loss: 0.8213 - accuracy: 0.4000 - val_loss: 0.6954 - val_accuracy: 0.5000\n",
            "Epoch 4/10\n",
            "50/50 - 1s - loss: 0.7068 - accuracy: 0.5000 - val_loss: 0.6935 - val_accuracy: 0.5000\n",
            "Epoch 5/10\n",
            "50/50 - 1s - loss: 0.6889 - accuracy: 0.5000 - val_loss: 0.6952 - val_accuracy: 0.5000\n",
            "Epoch 6/10\n",
            "50/50 - 1s - loss: 0.7115 - accuracy: 0.5000 - val_loss: 0.6932 - val_accuracy: 0.5000\n",
            "Epoch 7/10\n",
            "50/50 - 1s - loss: 0.6959 - accuracy: 0.5000 - val_loss: 0.6933 - val_accuracy: 0.5000\n",
            "Epoch 8/10\n",
            "50/50 - 1s - loss: 0.6962 - accuracy: 0.5000 - val_loss: 0.6933 - val_accuracy: 0.5000\n",
            "Epoch 9/10\n",
            "50/50 - 1s - loss: 0.6381 - accuracy: 0.6200 - val_loss: 1.0363 - val_accuracy: 0.5000\n",
            "Epoch 10/10\n",
            "50/50 - 1s - loss: 0.8679 - accuracy: 0.2950 - val_loss: 0.6933 - val_accuracy: 0.5000\n"
          ],
          "name": "stdout"
        }
      ]
    },
    {
      "cell_type": "code",
      "metadata": {
        "colab": {
          "base_uri": "https://localhost:8080/"
        },
        "id": "-rrbJU0hszO4",
        "outputId": "f8a5572f-c1dd-4ca8-a558-0f19a0317ed9"
      },
      "source": [
        "for feat, label in test_ds.shuffle(buffer_size=1).take(5):\n",
        "    pred = model.predict(feat)\n",
        "    print(pred)\n",
        "    print('Pred: {}, Label: {}'.format(np.argmax(pred), label))"
      ],
      "execution_count": 126,
      "outputs": [
        {
          "output_type": "stream",
          "text": [
            "[[0.02596142]]\n",
            "Pred: 0, Label: [0.]\n",
            "[[0.0259056]]\n",
            "Pred: 0, Label: [0.]\n",
            "[[0.02638283]]\n",
            "Pred: 0, Label: [0.]\n",
            "[[0.02546268]]\n",
            "Pred: 0, Label: [0.]\n",
            "[[0.02738784]]\n",
            "Pred: 0, Label: [0.]\n",
            "[[0.02530717]]\n",
            "Pred: 0, Label: [0.]\n",
            "[[0.02555646]]\n",
            "Pred: 0, Label: [0.]\n",
            "[[0.02572304]]\n",
            "Pred: 0, Label: [0.]\n",
            "[[0.02653689]]\n",
            "Pred: 0, Label: [0.]\n",
            "[[0.02741538]]\n",
            "Pred: 0, Label: [0.]\n",
            "[[0.02571836]]\n",
            "Pred: 0, Label: [1.]\n",
            "[[0.02552614]]\n",
            "Pred: 0, Label: [1.]\n",
            "[[0.02618982]]\n",
            "Pred: 0, Label: [1.]\n",
            "[[0.02506745]]\n",
            "Pred: 0, Label: [1.]\n",
            "[[0.02588582]]\n",
            "Pred: 0, Label: [1.]\n",
            "[[0.02691166]]\n",
            "Pred: 0, Label: [1.]\n",
            "[[0.02639975]]\n",
            "Pred: 0, Label: [1.]\n",
            "[[0.02654278]]\n",
            "Pred: 0, Label: [1.]\n",
            "[[0.02614849]]\n",
            "Pred: 0, Label: [1.]\n",
            "[[0.025899]]\n",
            "Pred: 0, Label: [1.]\n"
          ],
          "name": "stdout"
        }
      ]
    },
    {
      "cell_type": "markdown",
      "metadata": {
        "id": "yZCoLoEUe-TE"
      },
      "source": [
        "# Export model for TensorFlow.JS Serving\n"
      ]
    },
    {
      "cell_type": "markdown",
      "metadata": {
        "id": "wBS3YBvxxFw_"
      },
      "source": [
        "See https://www.tensorflow.org/js/tutorials/conversion/import_keras?hl=en"
      ]
    },
    {
      "cell_type": "code",
      "metadata": {
        "id": "Yz_NWkvofAk0"
      },
      "source": [
        "import tensorflowjs as tfjs\n",
        "\n",
        "tfjs.converters.save_keras_model(model)"
      ],
      "execution_count": null,
      "outputs": []
    },
    {
      "cell_type": "markdown",
      "metadata": {
        "id": "zOEimdgqwnao"
      },
      "source": [
        "Alternative way of exporting\n",
        "(see: https://medium.com/tensorflow/train-on-google-colab-and-run-on-the-browser-a-case-study-8a45f9b1474e) "
      ]
    },
    {
      "cell_type": "code",
      "metadata": {
        "id": "i44YwYFnwls6"
      },
      "source": [
        "model.save('keras.h5')"
      ],
      "execution_count": null,
      "outputs": []
    },
    {
      "cell_type": "code",
      "metadata": {
        "id": "lGqVCYY2wvEm"
      },
      "source": [
        "!pip install tensorflowjs"
      ],
      "execution_count": null,
      "outputs": []
    },
    {
      "cell_type": "code",
      "metadata": {
        "id": "dp992dR9w0B9"
      },
      "source": [
        "!mkdir model_export\n",
        "!tensorflowjs_converter --input_format keras keras.h5 model_export/"
      ],
      "execution_count": null,
      "outputs": []
    }
  ]
}